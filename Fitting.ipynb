{
 "cells": [
  {
   "cell_type": "markdown",
   "metadata": {},
   "source": [
    "## Import Modules"
   ]
  },
  {
   "cell_type": "code",
   "execution_count": 1,
   "metadata": {
    "collapsed": true
   },
   "outputs": [],
   "source": [
    "import pandas as pd\n",
    "import numpy as np\n",
    "from sklearn.neural_network import MLPClassifier\n",
    "from sklearn.metrics import accuracy_score, precision_score, recall_score, f1_score\n",
    "import pickle"
   ]
  },
  {
   "cell_type": "markdown",
   "metadata": {},
   "source": [
    "## Load Dataset"
   ]
  },
  {
   "cell_type": "code",
   "execution_count": 2,
   "metadata": {
    "collapsed": true
   },
   "outputs": [],
   "source": [
    "data = pd.read_csv(r'Data/connect-4.csv', header = None)"
   ]
  },
  {
   "cell_type": "code",
   "execution_count": 3,
   "metadata": {},
   "outputs": [
    {
     "data": {
      "text/plain": [
       "pandas.core.frame.DataFrame"
      ]
     },
     "execution_count": 3,
     "metadata": {},
     "output_type": "execute_result"
    }
   ],
   "source": [
    "type(data)"
   ]
  },
  {
   "cell_type": "code",
   "execution_count": 4,
   "metadata": {},
   "outputs": [
    {
     "data": {
      "text/html": [
       "<div>\n",
       "<style scoped>\n",
       "    .dataframe tbody tr th:only-of-type {\n",
       "        vertical-align: middle;\n",
       "    }\n",
       "\n",
       "    .dataframe tbody tr th {\n",
       "        vertical-align: top;\n",
       "    }\n",
       "\n",
       "    .dataframe thead th {\n",
       "        text-align: right;\n",
       "    }\n",
       "</style>\n",
       "<table border=\"1\" class=\"dataframe\">\n",
       "  <thead>\n",
       "    <tr style=\"text-align: right;\">\n",
       "      <th></th>\n",
       "      <th>0</th>\n",
       "      <th>1</th>\n",
       "      <th>2</th>\n",
       "      <th>3</th>\n",
       "      <th>4</th>\n",
       "      <th>5</th>\n",
       "      <th>6</th>\n",
       "      <th>7</th>\n",
       "      <th>8</th>\n",
       "      <th>9</th>\n",
       "      <th>...</th>\n",
       "      <th>33</th>\n",
       "      <th>34</th>\n",
       "      <th>35</th>\n",
       "      <th>36</th>\n",
       "      <th>37</th>\n",
       "      <th>38</th>\n",
       "      <th>39</th>\n",
       "      <th>40</th>\n",
       "      <th>41</th>\n",
       "      <th>42</th>\n",
       "    </tr>\n",
       "  </thead>\n",
       "  <tbody>\n",
       "    <tr>\n",
       "      <th>0</th>\n",
       "      <td>b</td>\n",
       "      <td>b</td>\n",
       "      <td>b</td>\n",
       "      <td>b</td>\n",
       "      <td>b</td>\n",
       "      <td>b</td>\n",
       "      <td>b</td>\n",
       "      <td>b</td>\n",
       "      <td>b</td>\n",
       "      <td>b</td>\n",
       "      <td>...</td>\n",
       "      <td>b</td>\n",
       "      <td>b</td>\n",
       "      <td>b</td>\n",
       "      <td>b</td>\n",
       "      <td>b</td>\n",
       "      <td>b</td>\n",
       "      <td>b</td>\n",
       "      <td>b</td>\n",
       "      <td>b</td>\n",
       "      <td>win</td>\n",
       "    </tr>\n",
       "    <tr>\n",
       "      <th>1</th>\n",
       "      <td>b</td>\n",
       "      <td>b</td>\n",
       "      <td>b</td>\n",
       "      <td>b</td>\n",
       "      <td>b</td>\n",
       "      <td>b</td>\n",
       "      <td>b</td>\n",
       "      <td>b</td>\n",
       "      <td>b</td>\n",
       "      <td>b</td>\n",
       "      <td>...</td>\n",
       "      <td>b</td>\n",
       "      <td>b</td>\n",
       "      <td>b</td>\n",
       "      <td>b</td>\n",
       "      <td>b</td>\n",
       "      <td>b</td>\n",
       "      <td>b</td>\n",
       "      <td>b</td>\n",
       "      <td>b</td>\n",
       "      <td>win</td>\n",
       "    </tr>\n",
       "    <tr>\n",
       "      <th>2</th>\n",
       "      <td>b</td>\n",
       "      <td>b</td>\n",
       "      <td>b</td>\n",
       "      <td>b</td>\n",
       "      <td>b</td>\n",
       "      <td>b</td>\n",
       "      <td>o</td>\n",
       "      <td>b</td>\n",
       "      <td>b</td>\n",
       "      <td>b</td>\n",
       "      <td>...</td>\n",
       "      <td>b</td>\n",
       "      <td>b</td>\n",
       "      <td>b</td>\n",
       "      <td>b</td>\n",
       "      <td>b</td>\n",
       "      <td>b</td>\n",
       "      <td>b</td>\n",
       "      <td>b</td>\n",
       "      <td>b</td>\n",
       "      <td>win</td>\n",
       "    </tr>\n",
       "    <tr>\n",
       "      <th>3</th>\n",
       "      <td>b</td>\n",
       "      <td>b</td>\n",
       "      <td>b</td>\n",
       "      <td>b</td>\n",
       "      <td>b</td>\n",
       "      <td>b</td>\n",
       "      <td>b</td>\n",
       "      <td>b</td>\n",
       "      <td>b</td>\n",
       "      <td>b</td>\n",
       "      <td>...</td>\n",
       "      <td>b</td>\n",
       "      <td>b</td>\n",
       "      <td>b</td>\n",
       "      <td>b</td>\n",
       "      <td>b</td>\n",
       "      <td>b</td>\n",
       "      <td>b</td>\n",
       "      <td>b</td>\n",
       "      <td>b</td>\n",
       "      <td>win</td>\n",
       "    </tr>\n",
       "    <tr>\n",
       "      <th>4</th>\n",
       "      <td>o</td>\n",
       "      <td>b</td>\n",
       "      <td>b</td>\n",
       "      <td>b</td>\n",
       "      <td>b</td>\n",
       "      <td>b</td>\n",
       "      <td>b</td>\n",
       "      <td>b</td>\n",
       "      <td>b</td>\n",
       "      <td>b</td>\n",
       "      <td>...</td>\n",
       "      <td>b</td>\n",
       "      <td>b</td>\n",
       "      <td>b</td>\n",
       "      <td>b</td>\n",
       "      <td>b</td>\n",
       "      <td>b</td>\n",
       "      <td>b</td>\n",
       "      <td>b</td>\n",
       "      <td>b</td>\n",
       "      <td>win</td>\n",
       "    </tr>\n",
       "  </tbody>\n",
       "</table>\n",
       "<p>5 rows × 43 columns</p>\n",
       "</div>"
      ],
      "text/plain": [
       "  0  1  2  3  4  5  6  7  8  9  ...  33 34 35 36 37 38 39 40 41   42\n",
       "0  b  b  b  b  b  b  b  b  b  b ...   b  b  b  b  b  b  b  b  b  win\n",
       "1  b  b  b  b  b  b  b  b  b  b ...   b  b  b  b  b  b  b  b  b  win\n",
       "2  b  b  b  b  b  b  o  b  b  b ...   b  b  b  b  b  b  b  b  b  win\n",
       "3  b  b  b  b  b  b  b  b  b  b ...   b  b  b  b  b  b  b  b  b  win\n",
       "4  o  b  b  b  b  b  b  b  b  b ...   b  b  b  b  b  b  b  b  b  win\n",
       "\n",
       "[5 rows x 43 columns]"
      ]
     },
     "execution_count": 4,
     "metadata": {},
     "output_type": "execute_result"
    }
   ],
   "source": [
    "data.head()"
   ]
  },
  {
   "cell_type": "markdown",
   "metadata": {},
   "source": [
    "## Pre-processing"
   ]
  },
  {
   "cell_type": "code",
   "execution_count": 5,
   "metadata": {},
   "outputs": [],
   "source": [
    "width = ['A', 'B', 'C', 'D', 'E', 'F', 'G']\n",
    "height = range(1, 7)"
   ]
  },
  {
   "cell_type": "code",
   "execution_count": 6,
   "metadata": {
    "collapsed": true
   },
   "outputs": [],
   "source": [
    "cols = [i + str(j) for i in width for j in height]\n",
    "cols.append('result')\n",
    "data.columns = cols"
   ]
  },
  {
   "cell_type": "code",
   "execution_count": 7,
   "metadata": {},
   "outputs": [
    {
     "data": {
      "text/html": [
       "<div>\n",
       "<style scoped>\n",
       "    .dataframe tbody tr th:only-of-type {\n",
       "        vertical-align: middle;\n",
       "    }\n",
       "\n",
       "    .dataframe tbody tr th {\n",
       "        vertical-align: top;\n",
       "    }\n",
       "\n",
       "    .dataframe thead th {\n",
       "        text-align: right;\n",
       "    }\n",
       "</style>\n",
       "<table border=\"1\" class=\"dataframe\">\n",
       "  <thead>\n",
       "    <tr style=\"text-align: right;\">\n",
       "      <th></th>\n",
       "      <th>A1</th>\n",
       "      <th>A2</th>\n",
       "      <th>A3</th>\n",
       "      <th>A4</th>\n",
       "      <th>A5</th>\n",
       "      <th>A6</th>\n",
       "      <th>B1</th>\n",
       "      <th>B2</th>\n",
       "      <th>B3</th>\n",
       "      <th>B4</th>\n",
       "      <th>...</th>\n",
       "      <th>F4</th>\n",
       "      <th>F5</th>\n",
       "      <th>F6</th>\n",
       "      <th>G1</th>\n",
       "      <th>G2</th>\n",
       "      <th>G3</th>\n",
       "      <th>G4</th>\n",
       "      <th>G5</th>\n",
       "      <th>G6</th>\n",
       "      <th>result</th>\n",
       "    </tr>\n",
       "  </thead>\n",
       "  <tbody>\n",
       "    <tr>\n",
       "      <th>0</th>\n",
       "      <td>b</td>\n",
       "      <td>b</td>\n",
       "      <td>b</td>\n",
       "      <td>b</td>\n",
       "      <td>b</td>\n",
       "      <td>b</td>\n",
       "      <td>b</td>\n",
       "      <td>b</td>\n",
       "      <td>b</td>\n",
       "      <td>b</td>\n",
       "      <td>...</td>\n",
       "      <td>b</td>\n",
       "      <td>b</td>\n",
       "      <td>b</td>\n",
       "      <td>b</td>\n",
       "      <td>b</td>\n",
       "      <td>b</td>\n",
       "      <td>b</td>\n",
       "      <td>b</td>\n",
       "      <td>b</td>\n",
       "      <td>win</td>\n",
       "    </tr>\n",
       "    <tr>\n",
       "      <th>1</th>\n",
       "      <td>b</td>\n",
       "      <td>b</td>\n",
       "      <td>b</td>\n",
       "      <td>b</td>\n",
       "      <td>b</td>\n",
       "      <td>b</td>\n",
       "      <td>b</td>\n",
       "      <td>b</td>\n",
       "      <td>b</td>\n",
       "      <td>b</td>\n",
       "      <td>...</td>\n",
       "      <td>b</td>\n",
       "      <td>b</td>\n",
       "      <td>b</td>\n",
       "      <td>b</td>\n",
       "      <td>b</td>\n",
       "      <td>b</td>\n",
       "      <td>b</td>\n",
       "      <td>b</td>\n",
       "      <td>b</td>\n",
       "      <td>win</td>\n",
       "    </tr>\n",
       "    <tr>\n",
       "      <th>2</th>\n",
       "      <td>b</td>\n",
       "      <td>b</td>\n",
       "      <td>b</td>\n",
       "      <td>b</td>\n",
       "      <td>b</td>\n",
       "      <td>b</td>\n",
       "      <td>o</td>\n",
       "      <td>b</td>\n",
       "      <td>b</td>\n",
       "      <td>b</td>\n",
       "      <td>...</td>\n",
       "      <td>b</td>\n",
       "      <td>b</td>\n",
       "      <td>b</td>\n",
       "      <td>b</td>\n",
       "      <td>b</td>\n",
       "      <td>b</td>\n",
       "      <td>b</td>\n",
       "      <td>b</td>\n",
       "      <td>b</td>\n",
       "      <td>win</td>\n",
       "    </tr>\n",
       "    <tr>\n",
       "      <th>3</th>\n",
       "      <td>b</td>\n",
       "      <td>b</td>\n",
       "      <td>b</td>\n",
       "      <td>b</td>\n",
       "      <td>b</td>\n",
       "      <td>b</td>\n",
       "      <td>b</td>\n",
       "      <td>b</td>\n",
       "      <td>b</td>\n",
       "      <td>b</td>\n",
       "      <td>...</td>\n",
       "      <td>b</td>\n",
       "      <td>b</td>\n",
       "      <td>b</td>\n",
       "      <td>b</td>\n",
       "      <td>b</td>\n",
       "      <td>b</td>\n",
       "      <td>b</td>\n",
       "      <td>b</td>\n",
       "      <td>b</td>\n",
       "      <td>win</td>\n",
       "    </tr>\n",
       "    <tr>\n",
       "      <th>4</th>\n",
       "      <td>o</td>\n",
       "      <td>b</td>\n",
       "      <td>b</td>\n",
       "      <td>b</td>\n",
       "      <td>b</td>\n",
       "      <td>b</td>\n",
       "      <td>b</td>\n",
       "      <td>b</td>\n",
       "      <td>b</td>\n",
       "      <td>b</td>\n",
       "      <td>...</td>\n",
       "      <td>b</td>\n",
       "      <td>b</td>\n",
       "      <td>b</td>\n",
       "      <td>b</td>\n",
       "      <td>b</td>\n",
       "      <td>b</td>\n",
       "      <td>b</td>\n",
       "      <td>b</td>\n",
       "      <td>b</td>\n",
       "      <td>win</td>\n",
       "    </tr>\n",
       "  </tbody>\n",
       "</table>\n",
       "<p>5 rows × 43 columns</p>\n",
       "</div>"
      ],
      "text/plain": [
       "  A1 A2 A3 A4 A5 A6 B1 B2 B3 B4  ...   F4 F5 F6 G1 G2 G3 G4 G5 G6 result\n",
       "0  b  b  b  b  b  b  b  b  b  b  ...    b  b  b  b  b  b  b  b  b    win\n",
       "1  b  b  b  b  b  b  b  b  b  b  ...    b  b  b  b  b  b  b  b  b    win\n",
       "2  b  b  b  b  b  b  o  b  b  b  ...    b  b  b  b  b  b  b  b  b    win\n",
       "3  b  b  b  b  b  b  b  b  b  b  ...    b  b  b  b  b  b  b  b  b    win\n",
       "4  o  b  b  b  b  b  b  b  b  b  ...    b  b  b  b  b  b  b  b  b    win\n",
       "\n",
       "[5 rows x 43 columns]"
      ]
     },
     "execution_count": 7,
     "metadata": {},
     "output_type": "execute_result"
    }
   ],
   "source": [
    "data.head()"
   ]
  },
  {
   "cell_type": "code",
   "execution_count": 8,
   "metadata": {
    "collapsed": true
   },
   "outputs": [],
   "source": [
    "data[data == 'x'] = 1\n",
    "data[data == 'b'] = 0\n",
    "data[data == 'o'] = -1"
   ]
  },
  {
   "cell_type": "code",
   "execution_count": 9,
   "metadata": {
    "collapsed": true
   },
   "outputs": [],
   "source": [
    "win = data[data['result'] == 'win']\n",
    "loss = data[data['result'] == 'loss']\n",
    "draw = data[data['result'] == 'draw']"
   ]
  },
  {
   "cell_type": "code",
   "execution_count": 10,
   "metadata": {
    "collapsed": true
   },
   "outputs": [],
   "source": [
    "win_num = len(win)\n",
    "loss_num = len(loss)\n",
    "draw_num = len(draw)"
   ]
  },
  {
   "cell_type": "code",
   "execution_count": 11,
   "metadata": {},
   "outputs": [
    {
     "data": {
      "text/plain": [
       "(44473, 16635, 6449)"
      ]
     },
     "execution_count": 11,
     "metadata": {},
     "output_type": "execute_result"
    }
   ],
   "source": [
    "win_num, loss_num, draw_num"
   ]
  },
  {
   "cell_type": "code",
   "execution_count": 12,
   "metadata": {
    "collapsed": true
   },
   "outputs": [],
   "source": [
    "win_train = win.sample(n = (int)(win_num * 0.66))\n",
    "loss_train = loss.sample(n = (int)(loss_num * 0.66))\n",
    "draw_train = draw.sample(n = (int)(draw_num * 0.66))"
   ]
  },
  {
   "cell_type": "code",
   "execution_count": 13,
   "metadata": {
    "collapsed": true
   },
   "outputs": [],
   "source": [
    "win_test = win.drop(win_train.index)\n",
    "loss_test = loss.drop(loss_train.index)\n",
    "draw_test = draw.drop(draw_train.index)"
   ]
  },
  {
   "cell_type": "code",
   "execution_count": 14,
   "metadata": {
    "collapsed": true
   },
   "outputs": [],
   "source": [
    "train = pd.concat([win_train, loss_train, draw_train], axis = 0)\n",
    "test = pd.concat([win_test, loss_test, draw_test], axis = 0)"
   ]
  },
  {
   "cell_type": "code",
   "execution_count": 15,
   "metadata": {
    "collapsed": true
   },
   "outputs": [],
   "source": [
    "x_features = list(data.columns)\n",
    "y_feature = 'result'\n",
    "x_features.remove(y_feature)"
   ]
  },
  {
   "cell_type": "code",
   "execution_count": 16,
   "metadata": {
    "collapsed": true
   },
   "outputs": [],
   "source": [
    "X_train = train[x_features].as_matrix()\n",
    "X_test = test[x_features].as_matrix()\n",
    "Y_train = train[y_feature].as_matrix()\n",
    "Y_test = test[y_feature].as_matrix()"
   ]
  },
  {
   "cell_type": "code",
   "execution_count": 17,
   "metadata": {},
   "outputs": [
    {
     "data": {
      "text/plain": [
       "array([0, 0, 0, 0, 0, 0, 0, 0, 0, 0, 0, 0, 1, 0, 0, 0, 0, 0, 1, -1, 1, -1,\n",
       "       1, -1, -1, 0, 0, 0, 0, 0, 0, 0, 0, 0, 0, 0, 0, 0, 0, 0, 0, 0],\n",
       "      dtype=object)"
      ]
     },
     "execution_count": 17,
     "metadata": {},
     "output_type": "execute_result"
    }
   ],
   "source": [
    "X_test[0]"
   ]
  },
  {
   "cell_type": "markdown",
   "metadata": {},
   "source": [
    "## MLP (Multi-Layer Perceptron)"
   ]
  },
  {
   "cell_type": "markdown",
   "metadata": {},
   "source": [
    "### Simple Model"
   ]
  },
  {
   "cell_type": "code",
   "execution_count": 18,
   "metadata": {},
   "outputs": [
    {
     "name": "stdout",
     "output_type": "stream",
     "text": [
      "Iteration 1, loss = 0.72123866\n",
      "Iteration 2, loss = 0.58329167\n",
      "Iteration 3, loss = 0.55514322\n",
      "Iteration 4, loss = 0.53503161\n",
      "Iteration 5, loss = 0.51595730\n",
      "Iteration 6, loss = 0.49803135\n",
      "Iteration 7, loss = 0.48225954\n",
      "Iteration 8, loss = 0.46914299\n",
      "Iteration 9, loss = 0.45926201\n",
      "Iteration 10, loss = 0.45022395\n",
      "Iteration 11, loss = 0.44253292\n",
      "Iteration 12, loss = 0.43590826\n",
      "Iteration 13, loss = 0.43055091\n",
      "Iteration 14, loss = 0.42484236\n",
      "Iteration 15, loss = 0.41993884\n",
      "Iteration 16, loss = 0.41657571\n",
      "Iteration 17, loss = 0.41314026\n",
      "Iteration 18, loss = 0.40887324\n",
      "Iteration 19, loss = 0.40584144\n",
      "Iteration 20, loss = 0.40192412\n",
      "Iteration 21, loss = 0.40046364\n",
      "Iteration 22, loss = 0.39754308\n",
      "Iteration 23, loss = 0.39436093\n",
      "Iteration 24, loss = 0.39224476\n",
      "Iteration 25, loss = 0.39033453\n",
      "Iteration 26, loss = 0.38866585\n",
      "Iteration 27, loss = 0.38662450\n",
      "Iteration 28, loss = 0.38435021\n",
      "Iteration 29, loss = 0.38236520\n",
      "Iteration 30, loss = 0.38113028\n",
      "Iteration 31, loss = 0.38060478\n",
      "Iteration 32, loss = 0.37782869\n",
      "Iteration 33, loss = 0.37769613\n",
      "Iteration 34, loss = 0.37570782\n",
      "Iteration 35, loss = 0.37354883\n",
      "Iteration 36, loss = 0.37222532\n",
      "Iteration 37, loss = 0.37143430\n",
      "Iteration 38, loss = 0.37011159\n",
      "Iteration 39, loss = 0.36898650\n",
      "Iteration 40, loss = 0.36788392\n",
      "Iteration 41, loss = 0.36721910\n",
      "Iteration 42, loss = 0.36603282\n",
      "Iteration 43, loss = 0.36529883\n",
      "Iteration 44, loss = 0.36462997\n",
      "Iteration 45, loss = 0.36318055\n",
      "Iteration 46, loss = 0.36298546\n",
      "Iteration 47, loss = 0.36129533\n",
      "Iteration 48, loss = 0.36021584\n",
      "Iteration 49, loss = 0.35948573\n",
      "Iteration 50, loss = 0.36011026\n",
      "Iteration 51, loss = 0.35859091\n",
      "Iteration 52, loss = 0.35767263\n",
      "Iteration 53, loss = 0.35735044\n",
      "Iteration 54, loss = 0.35599911\n",
      "Iteration 55, loss = 0.35470855\n",
      "Iteration 56, loss = 0.35456536\n",
      "Iteration 57, loss = 0.35419397\n",
      "Iteration 58, loss = 0.35311317\n",
      "Iteration 59, loss = 0.35218479\n",
      "Iteration 60, loss = 0.35223701\n",
      "Iteration 61, loss = 0.35109084\n",
      "Iteration 62, loss = 0.35077780\n",
      "Iteration 63, loss = 0.34962793\n",
      "Iteration 64, loss = 0.34984574\n",
      "Iteration 65, loss = 0.34902292\n",
      "Iteration 66, loss = 0.34760052\n",
      "Iteration 67, loss = 0.34706567\n",
      "Iteration 68, loss = 0.34711987\n",
      "Iteration 69, loss = 0.34731405\n",
      "Iteration 70, loss = 0.34623260\n",
      "Iteration 71, loss = 0.34556880\n",
      "Iteration 72, loss = 0.34563773\n",
      "Iteration 73, loss = 0.34498577\n",
      "Iteration 74, loss = 0.34419380\n",
      "Iteration 75, loss = 0.34516290\n",
      "Iteration 76, loss = 0.34308024\n",
      "Iteration 77, loss = 0.34267838\n",
      "Iteration 78, loss = 0.34204261\n",
      "Iteration 79, loss = 0.34215949\n",
      "Iteration 80, loss = 0.34190144\n",
      "Iteration 81, loss = 0.34101267\n",
      "Iteration 82, loss = 0.34192151\n",
      "Iteration 83, loss = 0.34044999\n",
      "Iteration 84, loss = 0.34114303\n",
      "Iteration 85, loss = 0.33921332\n",
      "Iteration 86, loss = 0.33872150\n",
      "Iteration 87, loss = 0.33935382\n",
      "Iteration 88, loss = 0.33912939\n",
      "Iteration 89, loss = 0.33739343\n",
      "Iteration 90, loss = 0.33807899\n",
      "Iteration 91, loss = 0.33713255\n",
      "Iteration 92, loss = 0.33722119\n",
      "Iteration 93, loss = 0.33597336\n",
      "Iteration 94, loss = 0.33600962\n",
      "Iteration 95, loss = 0.33544021\n",
      "Iteration 96, loss = 0.33619371\n",
      "Iteration 97, loss = 0.33490822\n",
      "Iteration 98, loss = 0.33486754\n",
      "Iteration 99, loss = 0.33605697\n",
      "Iteration 100, loss = 0.33487351\n",
      "Training loss did not improve more than tol=0.000100 for two consecutive epochs. Stopping.\n"
     ]
    },
    {
     "data": {
      "text/plain": [
       "MLPClassifier(activation='relu', alpha=0.0001, batch_size='auto', beta_1=0.9,\n",
       "       beta_2=0.999, early_stopping=False, epsilon=1e-08,\n",
       "       hidden_layer_sizes=(50, 20), learning_rate='constant',\n",
       "       learning_rate_init=0.001, max_iter=200, momentum=0.9,\n",
       "       nesterovs_momentum=True, power_t=0.5, random_state=None,\n",
       "       shuffle=True, solver='adam', tol=0.0001, validation_fraction=0.1,\n",
       "       verbose=1, warm_start=False)"
      ]
     },
     "execution_count": 18,
     "metadata": {},
     "output_type": "execute_result"
    }
   ],
   "source": [
    "MLP_classifier = MLPClassifier(hidden_layer_sizes = (50, 20), verbose = 1)\n",
    "MLP_classifier.fit(X_train, Y_train)"
   ]
  },
  {
   "cell_type": "code",
   "execution_count": 19,
   "metadata": {},
   "outputs": [
    {
     "data": {
      "text/plain": [
       "0.835132781889421"
      ]
     },
     "execution_count": 19,
     "metadata": {},
     "output_type": "execute_result"
    }
   ],
   "source": [
    "Y_predict = MLP_classifier.predict(X_test)\n",
    "MLP_classifier.score(X_test, Y_test)"
   ]
  },
  {
   "cell_type": "code",
   "execution_count": 20,
   "metadata": {
    "collapsed": true
   },
   "outputs": [],
   "source": [
    "Y_score = MLP_classifier.predict_proba(X_test)"
   ]
  },
  {
   "cell_type": "code",
   "execution_count": 21,
   "metadata": {
    "collapsed": true
   },
   "outputs": [],
   "source": [
    "model_accuracy = accuracy_score(Y_predict, Y_test)\n",
    "model_precision = precision_score(Y_predict, Y_test, average = 'weighted')\n",
    "model_recall = recall_score(Y_predict, Y_test, average = 'weighted')\n",
    "model_f1 = f1_score(Y_predict, Y_test, average = 'weighted')"
   ]
  },
  {
   "cell_type": "code",
   "execution_count": null,
   "metadata": {},
   "outputs": [
    {
     "name": "stdout",
     "output_type": "stream",
     "text": [
      "Accuracy: 0.835132781889421\n",
      "Precision: 0.8606158401868763\n",
      "Recall: 0.835132781889421\n",
      "F1 score: 0.8460862982836103\n"
     ]
    }
   ],
   "source": [
    "print(\"Accuracy: \" + str(model_accuracy))\n",
    "print(\"Precision: \" + str(model_precision))\n",
    "print(\"Recall: \" + str(model_recall))\n",
    "print(\"F1 score: \" + str(model_f1))"
   ]
  },
  {
   "cell_type": "markdown",
   "metadata": {},
   "source": [
    "### Complex Model"
   ]
  },
  {
   "cell_type": "code",
   "execution_count": null,
   "metadata": {},
   "outputs": [
    {
     "name": "stdout",
     "output_type": "stream",
     "text": [
      "Iteration 1, loss = 0.69029906\n",
      "Iteration 2, loss = 0.52374905\n",
      "Iteration 3, loss = 0.46315946\n",
      "Iteration 4, loss = 0.42677771\n"
     ]
    }
   ],
   "source": [
    "MLP_classifier = MLPClassifier(hidden_layer_sizes = (100, 80, 50, 30, 20, 10), verbose = 1)\n",
    "MLP_classifier.fit(X_train, Y_train)"
   ]
  },
  {
   "cell_type": "code",
   "execution_count": null,
   "metadata": {},
   "outputs": [],
   "source": [
    "Y_predict = MLP_classifier.predict(X_test)\n",
    "MLP_classifier.score(X_test, Y_test)"
   ]
  },
  {
   "cell_type": "code",
   "execution_count": null,
   "metadata": {
    "collapsed": true
   },
   "outputs": [],
   "source": [
    "Y_score = MLP_classifier.predict_proba(X_test)"
   ]
  },
  {
   "cell_type": "code",
   "execution_count": null,
   "metadata": {
    "collapsed": true
   },
   "outputs": [],
   "source": [
    "model_accuracy = accuracy_score(Y_predict, Y_test)\n",
    "model_precision = precision_score(Y_predict, Y_test, average = 'weighted')\n",
    "model_recall = recall_score(Y_predict, Y_test, average = 'weighted')\n",
    "model_f1 = f1_score(Y_predict, Y_test, average = 'weighted')"
   ]
  },
  {
   "cell_type": "code",
   "execution_count": null,
   "metadata": {},
   "outputs": [],
   "source": [
    "print(\"Accuracy: \" + str(model_accuracy))\n",
    "print(\"Precision: \" + str(model_precision))\n",
    "print(\"Recall: \" + str(model_recall))\n",
    "print(\"F1 score: \" + str(model_f1))"
   ]
  },
  {
   "cell_type": "markdown",
   "metadata": {},
   "source": [
    "## Save Model"
   ]
  },
  {
   "cell_type": "code",
   "execution_count": null,
   "metadata": {},
   "outputs": [],
   "source": [
    "filename = 'model/MLP.data'\n",
    "pickle.dump(MLP_classifier, open(filename, 'wb'))"
   ]
  }
 ],
 "metadata": {
  "kernelspec": {
   "display_name": "Python 3",
   "language": "python",
   "name": "python3"
  },
  "language_info": {
   "codemirror_mode": {
    "name": "ipython",
    "version": 3
   },
   "file_extension": ".py",
   "mimetype": "text/x-python",
   "name": "python",
   "nbconvert_exporter": "python",
   "pygments_lexer": "ipython3",
   "version": "3.6.1"
  }
 },
 "nbformat": 4,
 "nbformat_minor": 2
}
